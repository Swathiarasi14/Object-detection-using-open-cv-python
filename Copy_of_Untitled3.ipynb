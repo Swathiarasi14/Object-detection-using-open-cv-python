{
  "nbformat": 4,
  "nbformat_minor": 0,
  "metadata": {
    "colab": {
      "name": "Copy of Untitled3.ipynb",
      "provenance": [],
      "collapsed_sections": [],
      "authorship_tag": "ABX9TyN9nnA2mvYiNuqGWn/Jkkbt",
      "include_colab_link": true
    },
    "kernelspec": {
      "display_name": "Python 3",
      "name": "python3"
    },
    "language_info": {
      "name": "python"
    }
  },
  "cells": [
    {
      "cell_type": "markdown",
      "metadata": {
        "id": "view-in-github",
        "colab_type": "text"
      },
      "source": [
        "<a href=\"https://colab.research.google.com/github/Swathiarasi14/Object-detection-using-open-cv-python/blob/main/Copy_of_Untitled3.ipynb\" target=\"_parent\"><img src=\"https://colab.research.google.com/assets/colab-badge.svg\" alt=\"Open In Colab\"/></a>"
      ]
    },
    {
      "cell_type": "code",
      "metadata": {
        "id": "Rut1gRvc57P7"
      },
      "source": [
        "!pip install opencv-python\n",
        "import cv2\n",
        "from google.colab.patches import cv2_imshow\n",
        "img=cv2.imread(\"/content/Virat_Kohli.jpg\")\n",
        "img.shape\n",
        "img[0]\n",
        "import matplotlib.pyplot as plt\n",
        "plt.imshow(img)\n",
        "haar_data=cv2.CascadeClassifier(\"/content/frontal face.txt\")\n",
        "haar_data.detectMultiScale(img)\n",
        "from google.colab.patches import cv2_imshow\n",
        "while True:\n",
        "  faces=haar_data.detectMultiScale(img)\n",
        "  for x,y,w,h in faces:\n",
        "    cv2.rectangle(img,(x,y),(x+w,y+h),(255,0,255),4)\n",
        "    cv2_imshow(img)\n",
        "  if cv2.waitKey(2)==27:\n",
        "    break\n",
        "cv2.destroyAllWindows()\n",
        "data=[]\n"
      ],
      "execution_count": null,
      "outputs": []
    },
    {
      "cell_type": "code",
      "metadata": {
        "colab": {
          "background_save": true
        },
        "id": "HAdPVgsY-pAG"
      },
      "source": [
        "capture=cv2.VideoCapture(0)\n",
        "while True:\n",
        "  flag,img=capture.read()\n",
        "  if flag:\n",
        "    faces=haar_data.detectMultiScale(img)\n",
        "    for x,y,w,h in faces:\n",
        "      cv2.rectangle(img,(x,y),(x+w,y+h),(255,0,255),4)\n",
        "      face=img[y:y+h,x:x+w,:]\n",
        "      face=cv2.resize(face,(50,50))\n",
        "      print(len(data))\n",
        "      if len(data)<200:\n",
        "        data.append(face)\n",
        "    cv2_imshow(\"result\",img)\n",
        "    if cv2.waitKey(2)==27 or len(data)>=200:\n",
        "      break\n",
        "capture.release()\n",
        "cv2.destroyAllWindows()\n",
        "import numpy as np\n",
        "import cv2\n",
        "with_mask=np.load(\"with_mask.npy\")\n",
        "without_mask=np.load(\"without_mask.npy\")\n",
        "with_mask.shape\n",
        "without_mask.shape\n",
        "with_mask=with_mask.reshape(200,50*50*3)\n",
        "without_mask=without_mask.reshape(200,50*50*3)\n",
        "with_mask.shape\n",
        "without_mask.shape\n",
        "x=np.r_[with_mask,without_mask]\n",
        "x.shape\n",
        "labels=np.zeros(x.shape[0])\n",
        "labels[200:]=1.0\n",
        "names={0:\"mask\",1:\"no mask\"}\n",
        "\n"
      ],
      "execution_count": null,
      "outputs": []
    },
    {
      "cell_type": "code",
      "metadata": {
        "id": "mJE8vv3wt4kn"
      },
      "source": [
        "from sklearn.svm import svc\n",
        "from sklearn.metrics import accuracy_score\n",
        "from sklearn.model_selection import train_test_split\n",
        "x_train,x_test,y_train,y_test=train_test_split(x,labels,test_size=0.25)\n",
        "x_train.shape\n",
        "y_pred=svm.predict(x_test)\n",
        "accuracy_score(y_test,y_pred)\n",
        "\n"
      ],
      "execution_count": null,
      "outputs": []
    },
    {
      "cell_type": "code",
      "metadata": {
        "id": "0j9R5qC-vRoX"
      },
      "source": [
        "haar_data=cv2.CascadeClassifier(\"/content/frontal face.txt\")\n",
        "capture=cv2.VideoCapture(0)\n",
        "data=[]\n",
        "font=cv2.FONT_HERSHEY_COMPLEX\n",
        "while True:\n",
        "  flag,img=capture.read()\n",
        "   if flag:\n",
        "    faces=haar_data.detectMultiScale(img)\n",
        "    for x,y,w,h in faces:\n",
        "      cv2.rectangle(img,(x,y),(x+w,y+h),(255,0,255),4)\n",
        "      face=img[y:y+h,x:x+w,:]\n",
        "      face=cv2.resize(face,(50,50))\n",
        "      face=face.reshape(1,-1)\n",
        "      pred=svm.predict(face)[0]\n",
        "      n=names[int(pred)]\n",
        "      cv2.putText(img,n,(x,y),font,1,(244,250,250),2)\n",
        "      print(n)\n",
        "    cv2_imshow(\"result\",img)\n",
        "    if cv2.waitKey(2)==27:\n",
        "      break\n",
        "capture.release()\n",
        "cv2.destroyAllWindows()"
      ],
      "execution_count": null,
      "outputs": []
    }
  ]
}